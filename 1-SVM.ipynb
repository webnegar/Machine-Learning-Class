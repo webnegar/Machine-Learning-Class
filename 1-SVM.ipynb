{
 "cells": [
  {
   "cell_type": "code",
   "execution_count": null,
   "id": "92a36de0",
   "metadata": {
    "vscode": {
     "languageId": "plaintext"
    }
   },
   "outputs": [],
   "source": [
    "import numpy as np\n",
    "from sklearn import datasets\n",
    "from sklearn.model_selection import train_test_split\n",
    "from sklearn.svm import SVC\n",
    "import matplotlib.pyplot as plt\n",
    "#\n",
    "# داده‌ی نمونه\n",
    "# n_samples   = 10 یعنی ۱۰ تا نقطه (نمونه‌ی داده)\n",
    "# centers     = 2 یعنی دو گروه یا دو کلاس داریم\n",
    "# random_state= 6 فقط برای تکرارپذیر بودن داده‌هاست (یعنی هر بار یکسان تولید شن)\n",
    "X, y = datasets.make_blobs(n_samples=50, centers=2, random_state=6)\n",
    "\n",
    "# چاپ داده‌ها\n",
    "print(\"X (ویژگی‌ها):\")\n",
    "print(np.round(X, 2))   # با گرد کردن برای خوانایی بهتر\n",
    "print(\"\\ny (برچسب‌ها):\")\n",
    "print(y)\n",
    "\n",
    "# تقسیم داده‌ها\n",
    "X_train, X_test, y_train, y_test = train_test_split(X, y, test_size=0.3)\n",
    "\n",
    "# مدل SVM\n",
    "# kernel:  نوع تابع برای جدا کردن داده‌ها (linear, rbf, poly, sigmoid و غیره).\n",
    "\n",
    "model = SVC(kernel='linear')\n",
    "model.fit(X_train, y_train)\n",
    "\n",
    "# نمایش داده‌ها\n",
    "plt.scatter(X[:,0], X[:,1], c=y)\n",
    "plt.title(\"SVM Example - Linear Separation\")\n",
    "plt.show()\n"
   ]
  }
 ],
 "metadata": {
  "language_info": {
   "name": "python"
  }
 },
 "nbformat": 4,
 "nbformat_minor": 5
}
